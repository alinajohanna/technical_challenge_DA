{
 "cells": [
  {
   "cell_type": "markdown",
   "id": "c20b9599",
   "metadata": {},
   "source": [
    "# Investigating the Data Set"
   ]
  },
  {
   "cell_type": "code",
   "execution_count": 1,
   "id": "eef2b079",
   "metadata": {},
   "outputs": [],
   "source": [
    "import pandas as pd\n",
    "import numpy as np\n",
    "import matplotlib.pyplot as plt\n",
    "import seaborn as sns"
   ]
  },
  {
   "cell_type": "markdown",
   "id": "20054763",
   "metadata": {},
   "source": [
    "About the dataset:\n",
    "\n",
    "\"Displayed distance (km); the consume (L/100km); the average speed (km/h), the temperature i had inside (°C), the temperature outside (°C), anything special that happened, if it was raining, if the air condition was on, if it was sunny enough that the car felt warm when i started it… and yes - the gas type i was using. I have also two columns saying how much and which gas type I was buying. Careful with those. The numbers don't add exactly up, because I note only the rides that occur under certain conditions: If the car was not cooling down enough to have another independent measure from the one before, i don't note it.\"\n",
    "\n",
    "\"I am driving always the same car and i take almost always the same route. However, at the gas station i like to change the gas type; between SP98 (sold as \"Super plus\" sometimes) and SP95 E10 (This is, \"super\" gas with 10% Alcohol). E10 is sold for 1,38€; SP98 is sold for 1,46€; per liter.\""
   ]
  },
  {
   "cell_type": "code",
   "execution_count": 2,
   "id": "c0dccd0d",
   "metadata": {},
   "outputs": [],
   "source": [
    "df = pd.read_csv('./data/measurements.csv')"
   ]
  },
  {
   "cell_type": "code",
   "execution_count": 3,
   "id": "ba1fa98c",
   "metadata": {},
   "outputs": [
    {
     "data": {
      "text/html": [
       "<div>\n",
       "<style scoped>\n",
       "    .dataframe tbody tr th:only-of-type {\n",
       "        vertical-align: middle;\n",
       "    }\n",
       "\n",
       "    .dataframe tbody tr th {\n",
       "        vertical-align: top;\n",
       "    }\n",
       "\n",
       "    .dataframe thead th {\n",
       "        text-align: right;\n",
       "    }\n",
       "</style>\n",
       "<table border=\"1\" class=\"dataframe\">\n",
       "  <thead>\n",
       "    <tr style=\"text-align: right;\">\n",
       "      <th></th>\n",
       "      <th>distance</th>\n",
       "      <th>consume</th>\n",
       "      <th>speed</th>\n",
       "      <th>temp_inside</th>\n",
       "      <th>temp_outside</th>\n",
       "      <th>specials</th>\n",
       "      <th>gas_type</th>\n",
       "      <th>AC</th>\n",
       "      <th>rain</th>\n",
       "      <th>sun</th>\n",
       "      <th>refill liters</th>\n",
       "      <th>refill gas</th>\n",
       "    </tr>\n",
       "  </thead>\n",
       "  <tbody>\n",
       "    <tr>\n",
       "      <th>0</th>\n",
       "      <td>28</td>\n",
       "      <td>5</td>\n",
       "      <td>26</td>\n",
       "      <td>21,5</td>\n",
       "      <td>12</td>\n",
       "      <td>NaN</td>\n",
       "      <td>E10</td>\n",
       "      <td>0</td>\n",
       "      <td>0</td>\n",
       "      <td>0</td>\n",
       "      <td>45</td>\n",
       "      <td>E10</td>\n",
       "    </tr>\n",
       "    <tr>\n",
       "      <th>1</th>\n",
       "      <td>12</td>\n",
       "      <td>4,2</td>\n",
       "      <td>30</td>\n",
       "      <td>21,5</td>\n",
       "      <td>13</td>\n",
       "      <td>NaN</td>\n",
       "      <td>E10</td>\n",
       "      <td>0</td>\n",
       "      <td>0</td>\n",
       "      <td>0</td>\n",
       "      <td>NaN</td>\n",
       "      <td>NaN</td>\n",
       "    </tr>\n",
       "    <tr>\n",
       "      <th>2</th>\n",
       "      <td>11,2</td>\n",
       "      <td>5,5</td>\n",
       "      <td>38</td>\n",
       "      <td>21,5</td>\n",
       "      <td>15</td>\n",
       "      <td>NaN</td>\n",
       "      <td>E10</td>\n",
       "      <td>0</td>\n",
       "      <td>0</td>\n",
       "      <td>0</td>\n",
       "      <td>NaN</td>\n",
       "      <td>NaN</td>\n",
       "    </tr>\n",
       "    <tr>\n",
       "      <th>3</th>\n",
       "      <td>12,9</td>\n",
       "      <td>3,9</td>\n",
       "      <td>36</td>\n",
       "      <td>21,5</td>\n",
       "      <td>14</td>\n",
       "      <td>NaN</td>\n",
       "      <td>E10</td>\n",
       "      <td>0</td>\n",
       "      <td>0</td>\n",
       "      <td>0</td>\n",
       "      <td>NaN</td>\n",
       "      <td>NaN</td>\n",
       "    </tr>\n",
       "    <tr>\n",
       "      <th>4</th>\n",
       "      <td>18,5</td>\n",
       "      <td>4,5</td>\n",
       "      <td>46</td>\n",
       "      <td>21,5</td>\n",
       "      <td>15</td>\n",
       "      <td>NaN</td>\n",
       "      <td>E10</td>\n",
       "      <td>0</td>\n",
       "      <td>0</td>\n",
       "      <td>0</td>\n",
       "      <td>NaN</td>\n",
       "      <td>NaN</td>\n",
       "    </tr>\n",
       "    <tr>\n",
       "      <th>...</th>\n",
       "      <td>...</td>\n",
       "      <td>...</td>\n",
       "      <td>...</td>\n",
       "      <td>...</td>\n",
       "      <td>...</td>\n",
       "      <td>...</td>\n",
       "      <td>...</td>\n",
       "      <td>...</td>\n",
       "      <td>...</td>\n",
       "      <td>...</td>\n",
       "      <td>...</td>\n",
       "      <td>...</td>\n",
       "    </tr>\n",
       "    <tr>\n",
       "      <th>383</th>\n",
       "      <td>16</td>\n",
       "      <td>3,7</td>\n",
       "      <td>39</td>\n",
       "      <td>24,5</td>\n",
       "      <td>18</td>\n",
       "      <td>NaN</td>\n",
       "      <td>SP98</td>\n",
       "      <td>0</td>\n",
       "      <td>0</td>\n",
       "      <td>0</td>\n",
       "      <td>NaN</td>\n",
       "      <td>NaN</td>\n",
       "    </tr>\n",
       "    <tr>\n",
       "      <th>384</th>\n",
       "      <td>16,1</td>\n",
       "      <td>4,3</td>\n",
       "      <td>38</td>\n",
       "      <td>25</td>\n",
       "      <td>31</td>\n",
       "      <td>AC</td>\n",
       "      <td>SP98</td>\n",
       "      <td>1</td>\n",
       "      <td>0</td>\n",
       "      <td>0</td>\n",
       "      <td>NaN</td>\n",
       "      <td>NaN</td>\n",
       "    </tr>\n",
       "    <tr>\n",
       "      <th>385</th>\n",
       "      <td>16</td>\n",
       "      <td>3,8</td>\n",
       "      <td>45</td>\n",
       "      <td>25</td>\n",
       "      <td>19</td>\n",
       "      <td>NaN</td>\n",
       "      <td>SP98</td>\n",
       "      <td>0</td>\n",
       "      <td>0</td>\n",
       "      <td>0</td>\n",
       "      <td>NaN</td>\n",
       "      <td>NaN</td>\n",
       "    </tr>\n",
       "    <tr>\n",
       "      <th>386</th>\n",
       "      <td>15,4</td>\n",
       "      <td>4,6</td>\n",
       "      <td>42</td>\n",
       "      <td>25</td>\n",
       "      <td>31</td>\n",
       "      <td>AC</td>\n",
       "      <td>SP98</td>\n",
       "      <td>1</td>\n",
       "      <td>0</td>\n",
       "      <td>0</td>\n",
       "      <td>NaN</td>\n",
       "      <td>NaN</td>\n",
       "    </tr>\n",
       "    <tr>\n",
       "      <th>387</th>\n",
       "      <td>14,7</td>\n",
       "      <td>5</td>\n",
       "      <td>25</td>\n",
       "      <td>25</td>\n",
       "      <td>30</td>\n",
       "      <td>AC</td>\n",
       "      <td>SP98</td>\n",
       "      <td>1</td>\n",
       "      <td>0</td>\n",
       "      <td>0</td>\n",
       "      <td>NaN</td>\n",
       "      <td>NaN</td>\n",
       "    </tr>\n",
       "  </tbody>\n",
       "</table>\n",
       "<p>388 rows × 12 columns</p>\n",
       "</div>"
      ],
      "text/plain": [
       "    distance consume  speed temp_inside  temp_outside specials gas_type  AC  \\\n",
       "0         28       5     26        21,5            12      NaN      E10   0   \n",
       "1         12     4,2     30        21,5            13      NaN      E10   0   \n",
       "2       11,2     5,5     38        21,5            15      NaN      E10   0   \n",
       "3       12,9     3,9     36        21,5            14      NaN      E10   0   \n",
       "4       18,5     4,5     46        21,5            15      NaN      E10   0   \n",
       "..       ...     ...    ...         ...           ...      ...      ...  ..   \n",
       "383       16     3,7     39        24,5            18      NaN     SP98   0   \n",
       "384     16,1     4,3     38          25            31       AC     SP98   1   \n",
       "385       16     3,8     45          25            19      NaN     SP98   0   \n",
       "386     15,4     4,6     42          25            31       AC     SP98   1   \n",
       "387     14,7       5     25          25            30       AC     SP98   1   \n",
       "\n",
       "     rain  sun refill liters refill gas  \n",
       "0       0    0            45        E10  \n",
       "1       0    0           NaN        NaN  \n",
       "2       0    0           NaN        NaN  \n",
       "3       0    0           NaN        NaN  \n",
       "4       0    0           NaN        NaN  \n",
       "..    ...  ...           ...        ...  \n",
       "383     0    0           NaN        NaN  \n",
       "384     0    0           NaN        NaN  \n",
       "385     0    0           NaN        NaN  \n",
       "386     0    0           NaN        NaN  \n",
       "387     0    0           NaN        NaN  \n",
       "\n",
       "[388 rows x 12 columns]"
      ]
     },
     "execution_count": 3,
     "metadata": {},
     "output_type": "execute_result"
    }
   ],
   "source": [
    "df"
   ]
  },
  {
   "cell_type": "code",
   "execution_count": 4,
   "id": "ae025b8a",
   "metadata": {},
   "outputs": [
    {
     "data": {
      "text/html": [
       "<div>\n",
       "<style scoped>\n",
       "    .dataframe tbody tr th:only-of-type {\n",
       "        vertical-align: middle;\n",
       "    }\n",
       "\n",
       "    .dataframe tbody tr th {\n",
       "        vertical-align: top;\n",
       "    }\n",
       "\n",
       "    .dataframe thead th {\n",
       "        text-align: right;\n",
       "    }\n",
       "</style>\n",
       "<table border=\"1\" class=\"dataframe\">\n",
       "  <thead>\n",
       "    <tr style=\"text-align: right;\">\n",
       "      <th></th>\n",
       "      <th>distance</th>\n",
       "      <th>consume</th>\n",
       "      <th>speed</th>\n",
       "      <th>temp_inside</th>\n",
       "      <th>temp_outside</th>\n",
       "      <th>specials</th>\n",
       "      <th>gas_type</th>\n",
       "      <th>AC</th>\n",
       "      <th>rain</th>\n",
       "      <th>sun</th>\n",
       "      <th>refill liters</th>\n",
       "      <th>refill gas</th>\n",
       "    </tr>\n",
       "  </thead>\n",
       "  <tbody>\n",
       "    <tr>\n",
       "      <th>0</th>\n",
       "      <td>28.0</td>\n",
       "      <td>5.0</td>\n",
       "      <td>26</td>\n",
       "      <td>21.5</td>\n",
       "      <td>12</td>\n",
       "      <td>NaN</td>\n",
       "      <td>E10</td>\n",
       "      <td>0</td>\n",
       "      <td>0</td>\n",
       "      <td>0</td>\n",
       "      <td>45.0</td>\n",
       "      <td>E10</td>\n",
       "    </tr>\n",
       "    <tr>\n",
       "      <th>1</th>\n",
       "      <td>12.0</td>\n",
       "      <td>4.2</td>\n",
       "      <td>30</td>\n",
       "      <td>21.5</td>\n",
       "      <td>13</td>\n",
       "      <td>NaN</td>\n",
       "      <td>E10</td>\n",
       "      <td>0</td>\n",
       "      <td>0</td>\n",
       "      <td>0</td>\n",
       "      <td>NaN</td>\n",
       "      <td>NaN</td>\n",
       "    </tr>\n",
       "    <tr>\n",
       "      <th>2</th>\n",
       "      <td>11.2</td>\n",
       "      <td>5.5</td>\n",
       "      <td>38</td>\n",
       "      <td>21.5</td>\n",
       "      <td>15</td>\n",
       "      <td>NaN</td>\n",
       "      <td>E10</td>\n",
       "      <td>0</td>\n",
       "      <td>0</td>\n",
       "      <td>0</td>\n",
       "      <td>NaN</td>\n",
       "      <td>NaN</td>\n",
       "    </tr>\n",
       "    <tr>\n",
       "      <th>3</th>\n",
       "      <td>12.9</td>\n",
       "      <td>3.9</td>\n",
       "      <td>36</td>\n",
       "      <td>21.5</td>\n",
       "      <td>14</td>\n",
       "      <td>NaN</td>\n",
       "      <td>E10</td>\n",
       "      <td>0</td>\n",
       "      <td>0</td>\n",
       "      <td>0</td>\n",
       "      <td>NaN</td>\n",
       "      <td>NaN</td>\n",
       "    </tr>\n",
       "    <tr>\n",
       "      <th>4</th>\n",
       "      <td>18.5</td>\n",
       "      <td>4.5</td>\n",
       "      <td>46</td>\n",
       "      <td>21.5</td>\n",
       "      <td>15</td>\n",
       "      <td>NaN</td>\n",
       "      <td>E10</td>\n",
       "      <td>0</td>\n",
       "      <td>0</td>\n",
       "      <td>0</td>\n",
       "      <td>NaN</td>\n",
       "      <td>NaN</td>\n",
       "    </tr>\n",
       "    <tr>\n",
       "      <th>...</th>\n",
       "      <td>...</td>\n",
       "      <td>...</td>\n",
       "      <td>...</td>\n",
       "      <td>...</td>\n",
       "      <td>...</td>\n",
       "      <td>...</td>\n",
       "      <td>...</td>\n",
       "      <td>...</td>\n",
       "      <td>...</td>\n",
       "      <td>...</td>\n",
       "      <td>...</td>\n",
       "      <td>...</td>\n",
       "    </tr>\n",
       "    <tr>\n",
       "      <th>383</th>\n",
       "      <td>16.0</td>\n",
       "      <td>3.7</td>\n",
       "      <td>39</td>\n",
       "      <td>24.5</td>\n",
       "      <td>18</td>\n",
       "      <td>NaN</td>\n",
       "      <td>SP98</td>\n",
       "      <td>0</td>\n",
       "      <td>0</td>\n",
       "      <td>0</td>\n",
       "      <td>NaN</td>\n",
       "      <td>NaN</td>\n",
       "    </tr>\n",
       "    <tr>\n",
       "      <th>384</th>\n",
       "      <td>16.1</td>\n",
       "      <td>4.3</td>\n",
       "      <td>38</td>\n",
       "      <td>25.0</td>\n",
       "      <td>31</td>\n",
       "      <td>AC</td>\n",
       "      <td>SP98</td>\n",
       "      <td>1</td>\n",
       "      <td>0</td>\n",
       "      <td>0</td>\n",
       "      <td>NaN</td>\n",
       "      <td>NaN</td>\n",
       "    </tr>\n",
       "    <tr>\n",
       "      <th>385</th>\n",
       "      <td>16.0</td>\n",
       "      <td>3.8</td>\n",
       "      <td>45</td>\n",
       "      <td>25.0</td>\n",
       "      <td>19</td>\n",
       "      <td>NaN</td>\n",
       "      <td>SP98</td>\n",
       "      <td>0</td>\n",
       "      <td>0</td>\n",
       "      <td>0</td>\n",
       "      <td>NaN</td>\n",
       "      <td>NaN</td>\n",
       "    </tr>\n",
       "    <tr>\n",
       "      <th>386</th>\n",
       "      <td>15.4</td>\n",
       "      <td>4.6</td>\n",
       "      <td>42</td>\n",
       "      <td>25.0</td>\n",
       "      <td>31</td>\n",
       "      <td>AC</td>\n",
       "      <td>SP98</td>\n",
       "      <td>1</td>\n",
       "      <td>0</td>\n",
       "      <td>0</td>\n",
       "      <td>NaN</td>\n",
       "      <td>NaN</td>\n",
       "    </tr>\n",
       "    <tr>\n",
       "      <th>387</th>\n",
       "      <td>14.7</td>\n",
       "      <td>5.0</td>\n",
       "      <td>25</td>\n",
       "      <td>25.0</td>\n",
       "      <td>30</td>\n",
       "      <td>AC</td>\n",
       "      <td>SP98</td>\n",
       "      <td>1</td>\n",
       "      <td>0</td>\n",
       "      <td>0</td>\n",
       "      <td>NaN</td>\n",
       "      <td>NaN</td>\n",
       "    </tr>\n",
       "  </tbody>\n",
       "</table>\n",
       "<p>388 rows × 12 columns</p>\n",
       "</div>"
      ],
      "text/plain": [
       "     distance  consume  speed  temp_inside  temp_outside specials gas_type  \\\n",
       "0        28.0      5.0     26         21.5            12      NaN      E10   \n",
       "1        12.0      4.2     30         21.5            13      NaN      E10   \n",
       "2        11.2      5.5     38         21.5            15      NaN      E10   \n",
       "3        12.9      3.9     36         21.5            14      NaN      E10   \n",
       "4        18.5      4.5     46         21.5            15      NaN      E10   \n",
       "..        ...      ...    ...          ...           ...      ...      ...   \n",
       "383      16.0      3.7     39         24.5            18      NaN     SP98   \n",
       "384      16.1      4.3     38         25.0            31       AC     SP98   \n",
       "385      16.0      3.8     45         25.0            19      NaN     SP98   \n",
       "386      15.4      4.6     42         25.0            31       AC     SP98   \n",
       "387      14.7      5.0     25         25.0            30       AC     SP98   \n",
       "\n",
       "     AC  rain  sun  refill liters refill gas  \n",
       "0     0     0    0           45.0        E10  \n",
       "1     0     0    0            NaN        NaN  \n",
       "2     0     0    0            NaN        NaN  \n",
       "3     0     0    0            NaN        NaN  \n",
       "4     0     0    0            NaN        NaN  \n",
       "..   ..   ...  ...            ...        ...  \n",
       "383   0     0    0            NaN        NaN  \n",
       "384   1     0    0            NaN        NaN  \n",
       "385   0     0    0            NaN        NaN  \n",
       "386   1     0    0            NaN        NaN  \n",
       "387   1     0    0            NaN        NaN  \n",
       "\n",
       "[388 rows x 12 columns]"
      ]
     },
     "execution_count": 4,
     "metadata": {},
     "output_type": "execute_result"
    }
   ],
   "source": [
    "df2 = pd.read_excel('./data/measurements2.xlsx')\n",
    "df2"
   ]
  },
  {
   "cell_type": "markdown",
   "id": "d93b2159",
   "metadata": {},
   "source": [
    "It's the same dataset. Formatting and dtypes seem more plausible in df2"
   ]
  },
  {
   "cell_type": "code",
   "execution_count": 5,
   "id": "8573a114",
   "metadata": {},
   "outputs": [
    {
     "data": {
      "text/plain": [
       "distance         float64\n",
       "consume          float64\n",
       "speed              int64\n",
       "temp_inside      float64\n",
       "temp_outside       int64\n",
       "specials          object\n",
       "gas_type          object\n",
       "AC                 int64\n",
       "rain               int64\n",
       "sun                int64\n",
       "refill liters    float64\n",
       "refill gas        object\n",
       "dtype: object"
      ]
     },
     "execution_count": 5,
     "metadata": {},
     "output_type": "execute_result"
    }
   ],
   "source": [
    "df2.dtypes"
   ]
  },
  {
   "cell_type": "code",
   "execution_count": 6,
   "id": "d04da622",
   "metadata": {},
   "outputs": [
    {
     "data": {
      "text/plain": [
       "Index(['distance', 'consume', 'speed', 'temp_inside', 'temp_outside',\n",
       "       'specials', 'gas_type', 'AC', 'rain', 'sun', 'refill liters',\n",
       "       'refill gas'],\n",
       "      dtype='object')"
      ]
     },
     "execution_count": 6,
     "metadata": {},
     "output_type": "execute_result"
    }
   ],
   "source": [
    "df2.columns"
   ]
  },
  {
   "cell_type": "code",
   "execution_count": 7,
   "id": "2a04bc4b",
   "metadata": {},
   "outputs": [],
   "source": [
    "df2.columns = ['distance', 'consume', 'speed', 'temp_inside', 'temp_outside',\n",
    "       'specials', 'gas_type', 'AC', 'rain', 'sun', 'refill_liters',\n",
    "       'refill_gas']"
   ]
  },
  {
   "cell_type": "code",
   "execution_count": 8,
   "id": "db784b75",
   "metadata": {},
   "outputs": [],
   "source": [
    "# changing type of to object\n",
    "df2[['AC', 'rain','sun']] = df2[['AC', 'rain','sun']].astype(object)"
   ]
  },
  {
   "cell_type": "code",
   "execution_count": 13,
   "id": "cca5de8f",
   "metadata": {},
   "outputs": [
    {
     "data": {
      "text/plain": [
       "array([45. ,  nan, 37.6, 37.7, 38. , 38.3, 10. , 39. , 41. , 37. , 37.2])"
      ]
     },
     "execution_count": 13,
     "metadata": {},
     "output_type": "execute_result"
    }
   ],
   "source": [
    "df2['refill_liters'].unique()"
   ]
  },
  {
   "cell_type": "code",
   "execution_count": 15,
   "id": "dd204590",
   "metadata": {},
   "outputs": [
    {
     "name": "stdout",
     "output_type": "stream",
     "text": [
      "distance\n",
      "[ 28.   12.   11.2  12.9  18.5   8.3   7.8  12.3   4.9  11.9  12.4  11.8\n",
      "  24.7  17.3  33.4  25.9  25.3  14.2  17.9  18.4  18.3  32.6  19.   12.1\n",
      "  20.    4.5  11.7  10.2   5.4   2.   16.   27.3  10.6  11.6  13.1   6.1\n",
      " 153.5   2.9   2.1   9.8   6.8  14.   13.9   9.7  24.8  34.8   5.2  10.5\n",
      "  13.2  13.   12.2  12.5  15.7   6.4   5.3  26.2  18.8  22.9 162.7  16.6\n",
      "  15.9   5.1  22.4  31.1  16.1   4.2  17.4  23.5   7.   20.1  20.8   1.7\n",
      "  35.9  36.9  16.8   9.9  36.6  44.9  21.6  39.4  26.6  53.2  18.9  43.5\n",
      "  16.4  21.1  22.7  44.4  35.8  40.6  14.1  58.7  16.2  31.8  51.6  38.6\n",
      "  81.2 130.3  67.2  43.7  56.1  39.   38.5  28.2  19.6  22.2  13.6  12.6\n",
      "   8.7   7.9   2.4  18.1   1.3  13.4  12.8  29.   31.4  27.1  25.2  14.3\n",
      "  16.9   9.2  31.5  24.9  17.    7.4  25.7  24.5   4.1  15.4 101.9  93.9\n",
      "  32.1  48.6  37.2  28.8   6.7   6.6  13.3  12.7  16.5  20.6  16.3  18.7\n",
      "  36.5  29.9  10.1  31.9  10.8  19.8  11.3  11.5  21.4  32.   41.9 211.\n",
      " 216.1  25.5  22.1  39.5  21.5   4.8 100.9 129.7  21.   17.2   6.   20.9\n",
      "  15.3  28.5  14.5  16.7   5.5  14.7]\n",
      "consume\n",
      "[ 5.   4.2  5.5  3.9  4.5  6.4  4.4  5.3  5.6  4.6  5.9  5.1  4.7  4.9\n",
      "  5.7  4.1  5.8  4.8  4.3  5.2  7.4  6.5  4.   3.3  9.9  6.1  6.2  7.9\n",
      " 12.2  5.4  3.6  6.9  8.7  6.3  6.  10.8  8.1  7.1  3.8  9.   3.7 11.5\n",
      "  6.6]\n",
      "speed\n",
      "[26 30 38 36 46 50 43 40 42 59 58 24 32 39 37 62 57 21 28 29 35 51 23 55\n",
      " 44 25 63 61 82 52 18 41 20 56 45 22 60 33 34 71 75 66 27 49 14 80 53 47\n",
      " 73 69 85 67 54 31 48 16 88 65 90 87]\n",
      "temp_inside\n",
      "[21.5 22.5 20.   nan 21.  20.5 23.  23.5 25.  24.  22.  19.  24.5 25.5]\n",
      "temp_outside\n",
      "[12 13 15 14 10 11  6  4  9  0  5  3  8  1  2  7 -3 17 18 -5 16 19 21 20\n",
      " 25 23 27 24 26 22 30 31 28]\n",
      "specials\n",
      "[nan 'AC rain' 'AC' 'rain' 'snow' 'AC snow' 'half rain half sun' 'sun'\n",
      " 'AC sun' 'sun ac' 'ac' 'AC Sun' 'ac rain']\n",
      "gas_type\n",
      "['E10' 'SP98']\n",
      "AC\n",
      "[0 1]\n",
      "rain\n",
      "[0 1]\n",
      "sun\n",
      "[0 1]\n",
      "refill_liters\n",
      "[45.   nan 37.6 37.7 38.  38.3 10.  39.  41.  37.  37.2]\n",
      "refill_gas\n",
      "['E10' nan 'SP98']\n"
     ]
    }
   ],
   "source": [
    "for col in df2.columns:\n",
    "    print(col)\n",
    "    print(df2[col].unique())"
   ]
  },
  {
   "cell_type": "code",
   "execution_count": 16,
   "id": "d6da071d",
   "metadata": {},
   "outputs": [],
   "source": [
    "# check for snow impact\n",
    "# does rain 1 imply snow days?\n",
    "# not considering the refill columns yet"
   ]
  },
  {
   "cell_type": "code",
   "execution_count": 17,
   "id": "faa8587a",
   "metadata": {},
   "outputs": [
    {
     "data": {
      "text/plain": [
       "distance           0\n",
       "consume            0\n",
       "speed              0\n",
       "temp_inside       12\n",
       "temp_outside       0\n",
       "specials         295\n",
       "gas_type           0\n",
       "AC                 0\n",
       "rain               0\n",
       "sun                0\n",
       "refill_liters    375\n",
       "refill_gas       375\n",
       "dtype: int64"
      ]
     },
     "execution_count": 17,
     "metadata": {},
     "output_type": "execute_result"
    }
   ],
   "source": [
    "df2.isnull().sum()"
   ]
  },
  {
   "cell_type": "code",
   "execution_count": 18,
   "id": "f02faabc",
   "metadata": {},
   "outputs": [
    {
     "data": {
      "text/plain": [
       "21.929521276595743"
      ]
     },
     "execution_count": 18,
     "metadata": {},
     "output_type": "execute_result"
    }
   ],
   "source": [
    "#filling the inside temperature with the mean or mode, checking for difference first\n",
    "df2['temp_inside'].mean()"
   ]
  },
  {
   "cell_type": "code",
   "execution_count": 19,
   "id": "d59f5dd7",
   "metadata": {},
   "outputs": [
    {
     "data": {
      "text/plain": [
       "0    21.5\n",
       "Name: temp_inside, dtype: float64"
      ]
     },
     "execution_count": 19,
     "metadata": {},
     "output_type": "execute_result"
    }
   ],
   "source": [
    "df2['temp_inside'].mode()"
   ]
  },
  {
   "cell_type": "code",
   "execution_count": 20,
   "id": "66891d15",
   "metadata": {},
   "outputs": [],
   "source": [
    "df2['temp_inside'].fillna(df2['temp_inside'].mean(), inplace=True)"
   ]
  },
  {
   "cell_type": "code",
   "execution_count": 21,
   "id": "c69aa4c0",
   "metadata": {},
   "outputs": [
    {
     "data": {
      "text/plain": [
       "distance         0.000000\n",
       "consume          0.000000\n",
       "speed            0.000000\n",
       "temp_inside      0.000000\n",
       "temp_outside     0.000000\n",
       "specials         0.760309\n",
       "gas_type         0.000000\n",
       "AC               0.000000\n",
       "rain             0.000000\n",
       "sun              0.000000\n",
       "refill_liters    0.966495\n",
       "refill_gas       0.966495\n",
       "dtype: float64"
      ]
     },
     "execution_count": 21,
     "metadata": {},
     "output_type": "execute_result"
    }
   ],
   "source": [
    "df2.isnull().sum()/df2.shape[0]"
   ]
  },
  {
   "cell_type": "code",
   "execution_count": 22,
   "id": "a84117e5",
   "metadata": {},
   "outputs": [],
   "source": [
    "#dropping columns\n",
    "df2.drop(columns=['refill_liters', 'refill_gas', 'specials'], inplace=True)"
   ]
  },
  {
   "cell_type": "code",
   "execution_count": 23,
   "id": "e76f45a0",
   "metadata": {},
   "outputs": [
    {
     "name": "stdout",
     "output_type": "stream",
     "text": [
      "distance\n",
      "distance\n",
      "11,8    37\n",
      "16      24\n",
      "12,3    23\n",
      "12,4    18\n",
      "15,4    14\n",
      "        ..\n",
      "44,9     1\n",
      "36,6     1\n",
      "9,9      1\n",
      "16,8     1\n",
      "14,7     1\n",
      "Name: count, Length: 174, dtype: int64\n",
      "consume\n",
      "consume\n",
      "5       27\n",
      "4,5     27\n",
      "4,6     22\n",
      "4,7     21\n",
      "4,3     20\n",
      "4,1     20\n",
      "5,1     19\n",
      "4,8     19\n",
      "4,4     17\n",
      "4       17\n",
      "4,9     16\n",
      "4,2     15\n",
      "5,3     14\n",
      "3,9     14\n",
      "5,2     12\n",
      "3,8     11\n",
      "5,7     11\n",
      "5,6     10\n",
      "5,4      9\n",
      "3,7      8\n",
      "5,8      7\n",
      "5,5      6\n",
      "5,9      5\n",
      "3,6      4\n",
      "6,4      4\n",
      "6,1      4\n",
      "6,2      4\n",
      "6        4\n",
      "6,3      4\n",
      "8,1      2\n",
      "6,5      2\n",
      "7,4      2\n",
      "6,9      1\n",
      "8,7      1\n",
      "12,2     1\n",
      "7,9      1\n",
      "10,8     1\n",
      "9,9      1\n",
      "7,1      1\n",
      "3,3      1\n",
      "9        1\n",
      "11,5     1\n",
      "6,6      1\n",
      "Name: count, dtype: int64\n",
      "speed\n",
      "speed\n",
      "42    18\n",
      "43    17\n",
      "38    16\n",
      "26    15\n",
      "36    15\n",
      "33    15\n",
      "40    15\n",
      "32    12\n",
      "44    12\n",
      "37    12\n",
      "29    11\n",
      "39    11\n",
      "55    11\n",
      "46    11\n",
      "45    10\n",
      "58    10\n",
      "25    10\n",
      "24     9\n",
      "50     9\n",
      "35     9\n",
      "57     8\n",
      "41     8\n",
      "52     7\n",
      "53     6\n",
      "48     6\n",
      "28     6\n",
      "30     6\n",
      "21     6\n",
      "61     6\n",
      "51     6\n",
      "47     5\n",
      "56     5\n",
      "22     5\n",
      "34     4\n",
      "49     4\n",
      "27     4\n",
      "62     4\n",
      "59     3\n",
      "60     3\n",
      "54     3\n",
      "75     3\n",
      "23     3\n",
      "31     3\n",
      "80     3\n",
      "69     2\n",
      "16     2\n",
      "18     2\n",
      "71     2\n",
      "20     2\n",
      "82     2\n",
      "63     2\n",
      "14     1\n",
      "73     1\n",
      "66     1\n",
      "85     1\n",
      "67     1\n",
      "88     1\n",
      "65     1\n",
      "90     1\n",
      "87     1\n",
      "Name: count, dtype: int64\n",
      "temp_inside\n",
      "temp_inside\n",
      "21,5    133\n",
      "22      102\n",
      "22,5     59\n",
      "20       25\n",
      "21       13\n",
      "23       13\n",
      "25       12\n",
      "24,5      7\n",
      "20,5      4\n",
      "24        3\n",
      "23,5      2\n",
      "25,5      2\n",
      "19        1\n",
      "Name: count, dtype: int64\n",
      "temp_outside\n",
      "temp_outside\n",
      " 8     31\n",
      " 10    31\n",
      " 7     28\n",
      " 6     21\n",
      " 9     20\n",
      " 11    20\n",
      " 18    19\n",
      " 12    17\n",
      " 4     17\n",
      " 17    16\n",
      " 16    16\n",
      " 15    14\n",
      " 13    14\n",
      " 14    13\n",
      " 3     13\n",
      " 5     13\n",
      " 1     12\n",
      " 0      9\n",
      " 21     9\n",
      " 2      7\n",
      " 23     7\n",
      " 24     7\n",
      " 19     5\n",
      " 27     5\n",
      " 26     4\n",
      " 31     3\n",
      " 25     3\n",
      " 20     3\n",
      " 30     3\n",
      " 22     3\n",
      "-3      2\n",
      " 28     2\n",
      "-5      1\n",
      "Name: count, dtype: int64\n",
      "gas_type\n",
      "gas_type\n",
      "SP98    228\n",
      "E10     160\n",
      "Name: count, dtype: int64\n",
      "AC\n",
      "AC\n",
      "0    358\n",
      "1     30\n",
      "Name: count, dtype: int64\n",
      "rain\n",
      "rain\n",
      "0    340\n",
      "1     48\n",
      "Name: count, dtype: int64\n",
      "sun\n",
      "sun\n",
      "0    356\n",
      "1     32\n",
      "Name: count, dtype: int64\n"
     ]
    }
   ],
   "source": [
    "for col in df2.columns:\n",
    "    print(col)\n",
    "    print(df[col].value_counts())"
   ]
  },
  {
   "cell_type": "code",
   "execution_count": 24,
   "id": "5ce2a808",
   "metadata": {},
   "outputs": [
    {
     "data": {
      "text/plain": [
       "array(['E10', 'SP98'], dtype=object)"
      ]
     },
     "execution_count": 24,
     "metadata": {},
     "output_type": "execute_result"
    }
   ],
   "source": [
    "df2['gas_type'].unique()"
   ]
  },
  {
   "cell_type": "markdown",
   "id": "1044752f",
   "metadata": {},
   "source": [
    "# Plotting the data"
   ]
  },
  {
   "cell_type": "code",
   "execution_count": 25,
   "id": "645759e6",
   "metadata": {},
   "outputs": [],
   "source": [
    "df_num = df2.select_dtypes(include=np.number)"
   ]
  },
  {
   "cell_type": "code",
   "execution_count": 26,
   "id": "a945af29",
   "metadata": {},
   "outputs": [
    {
     "data": {
      "image/png": "[encoded data removed]",
      "text/plain": [
       "<Figure size 1500x1500 with 6 Axes>"
      ]
     },
     "metadata": {},
     "output_type": "display_data"
    }
   ],
   "source": [
    "import math\n",
    "num_cols = 2\n",
    "num_rows = math.ceil(len(df_num.columns) / num_cols)\n",
    "\n",
    "# Create subplots for each column\n",
    "fig, axes = plt.subplots(nrows=num_rows, ncols=num_cols, figsize=(15, 5 * num_rows))\n",
    "\n",
    "# Flatten the 2D array of axes into a 1D array\n",
    "axes = axes.flatten()\n",
    "\n",
    "# Plot each column separately\n",
    "for i, column in enumerate(df_num.columns):\n",
    "    sns.histplot(data=df2, x=column, ax=axes[i], kde=True)\n",
    "\n",
    "# Hide any empty subplots\n",
    "for j in range(len(df_num.columns), len(axes)):\n",
    "    axes[j].axis('off')\n",
    "\n",
    "plt.tight_layout()\n",
    "plt.show()"
   ]
  },
  {
   "cell_type": "code",
   "execution_count": 27,
   "id": "1634250d",
   "metadata": {},
   "outputs": [
    {
     "data": {
      "text/plain": [
       "<enumerate at 0x1356d8630>"
      ]
     },
     "execution_count": 27,
     "metadata": {},
     "output_type": "execute_result"
    }
   ],
   "source": [
    "enumerate(df_num.columns)"
   ]
  },
  {
   "cell_type": "code",
   "execution_count": 28,
   "id": "50035d0a",
   "metadata": {},
   "outputs": [
    {
     "data": {
      "image/png": "[encoded data removed]",
      "text/plain": [
       "<Figure size 1500x1500 with 6 Axes>"
      ]
     },
     "metadata": {},
     "output_type": "display_data"
    }
   ],
   "source": [
    "# we get a good overview of the general distribution. however lets compare between the two gas types.\n",
    "# when putting gas types on \"hue\" we will not see the clear differences as the data set is imbalanced.\n",
    "# lets try to compare with boxplots\n",
    "\n",
    "num_cols = 2  # Assuming you want 2 columns per row\n",
    "num_rows = math.ceil(len(df_num.columns) / num_cols)\n",
    "\n",
    "fig, axes = plt.subplots(nrows=num_rows, ncols=num_cols, figsize=(15, 5 * num_rows))\n",
    "\n",
    "# Flatten the 2D array of axes into a 1D array\n",
    "axes = axes.flatten()\n",
    "\n",
    "# Plot each column separately\n",
    "for i, column in enumerate(df_num.columns):\n",
    "    sns.boxplot(data=df2, x=column, y='gas_type', ax=axes[i])\n",
    "    \n",
    "# Hide any empty subplots\n",
    "for j in range(len(df_num.columns), len(axes)):\n",
    "    axes[j].axis('off')\n",
    "\n",
    "plt.tight_layout()\n",
    "plt.show()"
   ]
  },
  {
   "cell_type": "markdown",
   "id": "2ea99f78",
   "metadata": {},
   "source": [
    "We have a couple of outliers in distance especially for SP98 gas. Same applies for consume.\n",
    "\n",
    "Speed is almost similar for both gas types having only a few outliers.\n",
    "\n",
    "Temp Inside has a bigger spread due to outliers in SP98.\n",
    "Temp Outside is similar."
   ]
  },
  {
   "cell_type": "code",
   "execution_count": 29,
   "id": "e848c305",
   "metadata": {},
   "outputs": [
    {
     "data": {
      "image/png": "[encoded data removed]",
      "text/plain": [
       "<Figure size 1500x1500 with 6 Axes>"
      ]
     },
     "metadata": {},
     "output_type": "display_data"
    }
   ],
   "source": [
    "#let's have a look at the boxplots without differentiating between the gas_type\n",
    "\n",
    "num_cols = 2  # Assuming you want 2 columns per row\n",
    "num_rows = math.ceil(len(df_num.columns) / num_cols)\n",
    "\n",
    "fig, axes = plt.subplots(nrows=num_rows, ncols=num_cols, figsize=(15, 5 * num_rows))\n",
    "\n",
    "# Flatten the 2D array of axes into a 1D array\n",
    "axes = axes.flatten()\n",
    "\n",
    "# Plot each column separately\n",
    "for i, column in enumerate(df_num.columns):\n",
    "    sns.boxplot(data=df2, x=column, ax=axes[i])\n",
    "    \n",
    "# Hide any empty subplots\n",
    "for j in range(len(df_num.columns), len(axes)):\n",
    "    axes[j].axis('off')\n",
    "\n",
    "plt.tight_layout()\n",
    "plt.show()"
   ]
  },
  {
   "cell_type": "code",
   "execution_count": 30,
   "id": "316cb6e9",
   "metadata": {},
   "outputs": [],
   "source": [
    "df_cat = df2.select_dtypes(exclude=np.number)"
   ]
  },
  {
   "cell_type": "code",
   "execution_count": 31,
   "id": "5df40a5b",
   "metadata": {},
   "outputs": [
    {
     "name": "stdout",
     "output_type": "stream",
     "text": [
      "gas_type\n",
      "gas_type\n",
      "SP98    228\n",
      "E10     160\n",
      "Name: count, dtype: int64\n",
      "AC\n",
      "AC\n",
      "0    358\n",
      "1     30\n",
      "Name: count, dtype: int64\n",
      "rain\n",
      "rain\n",
      "0    340\n",
      "1     48\n",
      "Name: count, dtype: int64\n",
      "sun\n",
      "sun\n",
      "0    356\n",
      "1     32\n",
      "Name: count, dtype: int64\n"
     ]
    }
   ],
   "source": [
    "for col in df_cat.columns:\n",
    "    print(col)\n",
    "    print(df[col].value_counts())"
   ]
  },
  {
   "cell_type": "code",
   "execution_count": 32,
   "id": "9c32e930",
   "metadata": {},
   "outputs": [],
   "source": [
    "# save cleaned data set\n",
    "\n",
    "df2.to_csv('./data/cleaned_fuel_consumption.csv')"
   ]
  },
  {
   "cell_type": "markdown",
   "id": "b12778b8",
   "metadata": {},
   "source": [
    "# Hypthesis Testing"
   ]
  },
  {
   "cell_type": "markdown",
   "id": "f05e249e",
   "metadata": {},
   "source": [
    "My Hypothesis is that E10 consumes more than SP98.\n",
    "\n",
    "H0: E10 consume == SP98 consume\n",
    "\n",
    "H1: E10 consume != SP98 consume"
   ]
  },
  {
   "cell_type": "code",
   "execution_count": 33,
   "id": "785d1008",
   "metadata": {},
   "outputs": [
    {
     "data": {
      "text/html": [
       "<div>\n",
       "<style scoped>\n",
       "    .dataframe tbody tr th:only-of-type {\n",
       "        vertical-align: middle;\n",
       "    }\n",
       "\n",
       "    .dataframe tbody tr th {\n",
       "        vertical-align: top;\n",
       "    }\n",
       "\n",
       "    .dataframe thead th {\n",
       "        text-align: right;\n",
       "    }\n",
       "</style>\n",
       "<table border=\"1\" class=\"dataframe\">\n",
       "  <thead>\n",
       "    <tr style=\"text-align: right;\">\n",
       "      <th></th>\n",
       "      <th>distance</th>\n",
       "      <th>consume</th>\n",
       "      <th>speed</th>\n",
       "      <th>temp_inside</th>\n",
       "      <th>temp_outside</th>\n",
       "      <th>gas_type</th>\n",
       "      <th>AC</th>\n",
       "      <th>rain</th>\n",
       "      <th>sun</th>\n",
       "    </tr>\n",
       "  </thead>\n",
       "  <tbody>\n",
       "    <tr>\n",
       "      <th>0</th>\n",
       "      <td>28.0</td>\n",
       "      <td>5.0</td>\n",
       "      <td>26</td>\n",
       "      <td>21.5</td>\n",
       "      <td>12</td>\n",
       "      <td>E10</td>\n",
       "      <td>0</td>\n",
       "      <td>0</td>\n",
       "      <td>0</td>\n",
       "    </tr>\n",
       "    <tr>\n",
       "      <th>1</th>\n",
       "      <td>12.0</td>\n",
       "      <td>4.2</td>\n",
       "      <td>30</td>\n",
       "      <td>21.5</td>\n",
       "      <td>13</td>\n",
       "      <td>E10</td>\n",
       "      <td>0</td>\n",
       "      <td>0</td>\n",
       "      <td>0</td>\n",
       "    </tr>\n",
       "    <tr>\n",
       "      <th>2</th>\n",
       "      <td>11.2</td>\n",
       "      <td>5.5</td>\n",
       "      <td>38</td>\n",
       "      <td>21.5</td>\n",
       "      <td>15</td>\n",
       "      <td>E10</td>\n",
       "      <td>0</td>\n",
       "      <td>0</td>\n",
       "      <td>0</td>\n",
       "    </tr>\n",
       "    <tr>\n",
       "      <th>3</th>\n",
       "      <td>12.9</td>\n",
       "      <td>3.9</td>\n",
       "      <td>36</td>\n",
       "      <td>21.5</td>\n",
       "      <td>14</td>\n",
       "      <td>E10</td>\n",
       "      <td>0</td>\n",
       "      <td>0</td>\n",
       "      <td>0</td>\n",
       "    </tr>\n",
       "    <tr>\n",
       "      <th>4</th>\n",
       "      <td>18.5</td>\n",
       "      <td>4.5</td>\n",
       "      <td>46</td>\n",
       "      <td>21.5</td>\n",
       "      <td>15</td>\n",
       "      <td>E10</td>\n",
       "      <td>0</td>\n",
       "      <td>0</td>\n",
       "      <td>0</td>\n",
       "    </tr>\n",
       "  </tbody>\n",
       "</table>\n",
       "</div>"
      ],
      "text/plain": [
       "   distance  consume  speed  temp_inside  temp_outside gas_type AC rain sun\n",
       "0      28.0      5.0     26         21.5            12      E10  0    0   0\n",
       "1      12.0      4.2     30         21.5            13      E10  0    0   0\n",
       "2      11.2      5.5     38         21.5            15      E10  0    0   0\n",
       "3      12.9      3.9     36         21.5            14      E10  0    0   0\n",
       "4      18.5      4.5     46         21.5            15      E10  0    0   0"
      ]
     },
     "execution_count": 33,
     "metadata": {},
     "output_type": "execute_result"
    }
   ],
   "source": [
    "df2.head()"
   ]
  },
  {
   "cell_type": "code",
   "execution_count": 34,
   "id": "7b1a6563",
   "metadata": {},
   "outputs": [],
   "source": [
    "consume_e10 = df2[df2['gas_type']=='E10']['consume']\n",
    "consume_sp98 = df2[df2['gas_type']=='SP98']['consume']"
   ]
  },
  {
   "cell_type": "markdown",
   "id": "ff35d29c",
   "metadata": {},
   "source": [
    "- Use ttest_ind for comparing the means of two independent groups.\n",
    "- Use ttest_1samp for comparing the mean of a single sample to a known or hypothesized population mean.\n",
    "\n",
    "Since we are comparing the means of two different gas types (E10 and SP98), the ttest_ind is more appropriate."
   ]
  },
  {
   "cell_type": "code",
   "execution_count": 35,
   "id": "7f7fd36f",
   "metadata": {},
   "outputs": [
    {
     "name": "stdout",
     "output_type": "stream",
     "text": [
      "T-Statistic: 0.3126464352325148\n",
      "P-Value: 0.7547214058885283\n",
      "There is no statistically significant difference in fuel consumption between E10 and SP98.\n"
     ]
    }
   ],
   "source": [
    "import scipy.stats as st\n",
    "\n",
    "# chose a significance level\n",
    "alpha = 0.05\n",
    "\n",
    "# Perform t-test\n",
    "t_statistic, p_value = st.ttest_ind(consume_e10, consume_sp98, equal_var=False)\n",
    "\n",
    "# Print the results\n",
    "print(\"T-Statistic:\", t_statistic)\n",
    "print(\"P-Value:\", p_value)\n",
    "\n",
    "# Check if the difference is significant\n",
    "if p_value < alpha:\n",
    "    print(\"The difference in fuel consumption between E10 and SP98 is statistically significant.\")\n",
    "else:\n",
    "    print(\"There is no statistically significant difference in fuel consumption between E10 and SP98.\")"
   ]
  },
  {
   "cell_type": "markdown",
   "id": "d72f3ef9",
   "metadata": {},
   "source": [
    "With a p-value of 0.75, and assuming a significance level of 0.05, there is not enough evidence to reject the null hypothesis. The results are not statistically significant, suggesting that you do not have enough evidence to conclude that the mean consumption of E10 is greater than the known mean consumption of SP98."
   ]
  },
  {
   "cell_type": "markdown",
   "id": "846c4428",
   "metadata": {},
   "source": [
    "H0: E10 consume <= SP98 consume\n",
    "\n",
    "H1: E10 consume > SP98 consume"
   ]
  },
  {
   "cell_type": "code",
   "execution_count": 36,
   "id": "f9966edd",
   "metadata": {},
   "outputs": [
    {
     "name": "stdout",
     "output_type": "stream",
     "text": [
      "T-Statistic: 0.3126464352325148\n",
      "P-Value: 0.37736070294426416\n",
      "There is no statistically significant evidence that E10 consumes more than SP98.\n"
     ]
    }
   ],
   "source": [
    "t_statistic, p_value = st.ttest_ind(consume_e10, consume_sp98, alternative='greater', equal_var=False)\n",
    "# Print the results\n",
    "print(\"T-Statistic:\", t_statistic)\n",
    "print(\"P-Value:\", p_value)\n",
    "\n",
    "# Check if the difference is significant\n",
    "if p_value < alpha:\n",
    "    print(\"There is significant evidence that E10 consumes more than SP98.\")\n",
    "else:\n",
    "    print(\"There is no statistically significant evidence that E10 consumes more than SP98.\")"
   ]
  },
  {
   "cell_type": "markdown",
   "id": "b763189a",
   "metadata": {},
   "source": [
    "## Predictions"
   ]
  },
  {
   "cell_type": "markdown",
   "id": "ec3ca7e4",
   "metadata": {},
   "source": [
    "Let's try to predict the consume variable.\n",
    "Before doing that lets translate the `gas_type` into a numerical variable."
   ]
  },
  {
   "cell_type": "code",
   "execution_count": 37,
   "id": "1534e80b",
   "metadata": {},
   "outputs": [],
   "source": [
    "df2['gas_type_num'] = df2['gas_type'].apply(lambda x: 0 if x == \"E10\" else 1)"
   ]
  },
  {
   "cell_type": "code",
   "execution_count": 38,
   "id": "e50c73f4",
   "metadata": {},
   "outputs": [],
   "source": [
    "df_num['gas_type_num'] = df2['gas_type_num']"
   ]
  },
  {
   "cell_type": "code",
   "execution_count": 39,
   "id": "f56fd956",
   "metadata": {},
   "outputs": [
    {
     "data": {
      "text/html": [
       "<div>\n",
       "<style scoped>\n",
       "    .dataframe tbody tr th:only-of-type {\n",
       "        vertical-align: middle;\n",
       "    }\n",
       "\n",
       "    .dataframe tbody tr th {\n",
       "        vertical-align: top;\n",
       "    }\n",
       "\n",
       "    .dataframe thead th {\n",
       "        text-align: right;\n",
       "    }\n",
       "</style>\n",
       "<table border=\"1\" class=\"dataframe\">\n",
       "  <thead>\n",
       "    <tr style=\"text-align: right;\">\n",
       "      <th></th>\n",
       "      <th>distance</th>\n",
       "      <th>consume</th>\n",
       "      <th>speed</th>\n",
       "      <th>temp_inside</th>\n",
       "      <th>temp_outside</th>\n",
       "      <th>gas_type_num</th>\n",
       "    </tr>\n",
       "  </thead>\n",
       "  <tbody>\n",
       "    <tr>\n",
       "      <th>distance</th>\n",
       "      <td>1.000000</td>\n",
       "      <td>-0.128967</td>\n",
       "      <td>0.562299</td>\n",
       "      <td>0.075178</td>\n",
       "      <td>0.088175</td>\n",
       "      <td>-0.053411</td>\n",
       "    </tr>\n",
       "    <tr>\n",
       "      <th>consume</th>\n",
       "      <td>-0.128967</td>\n",
       "      <td>1.000000</td>\n",
       "      <td>-0.227866</td>\n",
       "      <td>-0.160623</td>\n",
       "      <td>-0.320811</td>\n",
       "      <td>-0.015327</td>\n",
       "    </tr>\n",
       "    <tr>\n",
       "      <th>speed</th>\n",
       "      <td>0.562299</td>\n",
       "      <td>-0.227866</td>\n",
       "      <td>1.000000</td>\n",
       "      <td>0.059293</td>\n",
       "      <td>0.015411</td>\n",
       "      <td>-0.097360</td>\n",
       "    </tr>\n",
       "    <tr>\n",
       "      <th>temp_inside</th>\n",
       "      <td>0.075178</td>\n",
       "      <td>-0.160623</td>\n",
       "      <td>0.059293</td>\n",
       "      <td>1.000000</td>\n",
       "      <td>0.359500</td>\n",
       "      <td>0.010198</td>\n",
       "    </tr>\n",
       "    <tr>\n",
       "      <th>temp_outside</th>\n",
       "      <td>0.088175</td>\n",
       "      <td>-0.320811</td>\n",
       "      <td>0.015411</td>\n",
       "      <td>0.359500</td>\n",
       "      <td>1.000000</td>\n",
       "      <td>0.148705</td>\n",
       "    </tr>\n",
       "    <tr>\n",
       "      <th>gas_type_num</th>\n",
       "      <td>-0.053411</td>\n",
       "      <td>-0.015327</td>\n",
       "      <td>-0.097360</td>\n",
       "      <td>0.010198</td>\n",
       "      <td>0.148705</td>\n",
       "      <td>1.000000</td>\n",
       "    </tr>\n",
       "  </tbody>\n",
       "</table>\n",
       "</div>"
      ],
      "text/plain": [
       "              distance   consume     speed  temp_inside  temp_outside  \\\n",
       "distance      1.000000 -0.128967  0.562299     0.075178      0.088175   \n",
       "consume      -0.128967  1.000000 -0.227866    -0.160623     -0.320811   \n",
       "speed         0.562299 -0.227866  1.000000     0.059293      0.015411   \n",
       "temp_inside   0.075178 -0.160623  0.059293     1.000000      0.359500   \n",
       "temp_outside  0.088175 -0.320811  0.015411     0.359500      1.000000   \n",
       "gas_type_num -0.053411 -0.015327 -0.097360     0.010198      0.148705   \n",
       "\n",
       "              gas_type_num  \n",
       "distance         -0.053411  \n",
       "consume          -0.015327  \n",
       "speed            -0.097360  \n",
       "temp_inside       0.010198  \n",
       "temp_outside      0.148705  \n",
       "gas_type_num      1.000000  "
      ]
     },
     "execution_count": 39,
     "metadata": {},
     "output_type": "execute_result"
    }
   ],
   "source": [
    "df_num.corr()"
   ]
  },
  {
   "cell_type": "code",
   "execution_count": 40,
   "id": "ce1eb517",
   "metadata": {},
   "outputs": [
    {
     "data": {
      "image/png": "[encoded data removed]",
      "text/plain": [
       "<Figure size 640x480 with 2 Axes>"
      ]
     },
     "metadata": {},
     "output_type": "display_data"
    }
   ],
   "source": [
    "sns.heatmap(df_num.corr(), annot=True)\n",
    "plt.show()"
   ]
  },
  {
   "cell_type": "markdown",
   "id": "cd6c1a00",
   "metadata": {},
   "source": [
    "We can see that consume correlates to some extinct negatively with distance, speed, temp_inside and temp_outside. The impact of gas_type is not really given with only -0.015."
   ]
  },
  {
   "cell_type": "code",
   "execution_count": 41,
   "id": "1ce00e91",
   "metadata": {},
   "outputs": [
    {
     "data": {
      "text/plain": [
       "distance        5.483256\n",
       "consume         2.937552\n",
       "speed           0.753316\n",
       "temp_inside     1.006163\n",
       "temp_outside    0.573224\n",
       "gas_type_num   -0.357409\n",
       "dtype: float64"
      ]
     },
     "execution_count": 41,
     "metadata": {},
     "output_type": "execute_result"
    }
   ],
   "source": [
    "df_num.skew()"
   ]
  },
  {
   "cell_type": "code",
   "execution_count": 42,
   "id": "2347e19b",
   "metadata": {},
   "outputs": [
    {
     "data": {
      "text/plain": [
       "Index(['distance', 'consume', 'speed', 'temp_inside', 'temp_outside',\n",
       "       'gas_type_num'],\n",
       "      dtype='object')"
      ]
     },
     "execution_count": 42,
     "metadata": {},
     "output_type": "execute_result"
    }
   ],
   "source": [
    "df_num.columns"
   ]
  },
  {
   "cell_type": "code",
   "execution_count": 43,
   "id": "5c003f36",
   "metadata": {},
   "outputs": [],
   "source": [
    "from sklearn.model_selection import train_test_split\n",
    "\n",
    "X = df_num[['distance', 'speed', 'temp_inside', 'temp_outside', 'gas_type_num']]\n",
    "y =  df_num['consume']\n",
    "\n",
    "X_train, X_test, y_train, y_test = train_test_split(X, y, test_size=0.2, random_state=42)"
   ]
  },
  {
   "cell_type": "code",
   "execution_count": 44,
   "id": "0ff5bc10",
   "metadata": {},
   "outputs": [],
   "source": [
    "# transform the columns:\n",
    "from sklearn.preprocessing import PowerTransformer\n",
    "\n",
    "to_be_transformed = X_train[['distance', 'speed', 'temp_inside', 'temp_outside']]\n",
    "\n",
    "transformer = PowerTransformer(method='yeo-johnson')\n",
    "\n",
    "X_train_transformed = transformer.fit_transform(to_be_transformed)\n",
    "X_train_transformed_df = pd.DataFrame(X_train_transformed, columns=to_be_transformed.columns, index=X_train.index)\n",
    "\n",
    "# transform test set\n",
    "X_test_transformed = transformer.transform(X_test[['distance', 'speed', 'temp_inside', 'temp_outside']])\n",
    "X_test_transformed_df = pd.DataFrame(X_test_transformed, columns=to_be_transformed.columns, index=X_test.index)"
   ]
  },
  {
   "cell_type": "code",
   "execution_count": 45,
   "id": "753db91c",
   "metadata": {},
   "outputs": [
    {
     "data": {
      "image/png": "[encoded data removed]",
      "text/plain": [
       "<Figure size 1500x1000 with 4 Axes>"
      ]
     },
     "metadata": {},
     "output_type": "display_data"
    }
   ],
   "source": [
    "num_cols = 2\n",
    "num_rows = math.ceil(len(X_train_transformed_df.columns) / num_cols)\n",
    "\n",
    "# Create subplots for each column\n",
    "fig, axes = plt.subplots(nrows=num_rows, ncols=num_cols, figsize=(15, 5 * num_rows))\n",
    "\n",
    "# Flatten the 2D array of axes into a 1D array\n",
    "axes = axes.flatten()\n",
    "\n",
    "# Plot each column separately\n",
    "for i, column in enumerate(X_train_transformed_df.columns):\n",
    "    sns.histplot(data=X_train_transformed_df, x=column, ax=axes[i], kde=True)\n",
    "\n",
    "# Hide any empty subplots\n",
    "for j in range(len(X_train_transformed_df.columns), len(axes)):\n",
    "    axes[j].axis('off')\n",
    "\n",
    "plt.tight_layout()\n",
    "plt.show()"
   ]
  },
  {
   "cell_type": "code",
   "execution_count": 46,
   "id": "a508c438",
   "metadata": {},
   "outputs": [],
   "source": [
    "#X_train_transformed_df = pd.concat([X_train_transformed_df, X_train['gas_type_num']], axis=1) \n",
    "#X_test_transformed_df = pd.concat([X_test_transformed_df, X_test['gas_type_num']], axis=1) "
   ]
  },
  {
   "cell_type": "code",
   "execution_count": 47,
   "id": "1fd5582a",
   "metadata": {},
   "outputs": [
    {
     "data": {
      "text/html": [
       "<div>\n",
       "<style scoped>\n",
       "    .dataframe tbody tr th:only-of-type {\n",
       "        vertical-align: middle;\n",
       "    }\n",
       "\n",
       "    .dataframe tbody tr th {\n",
       "        vertical-align: top;\n",
       "    }\n",
       "\n",
       "    .dataframe thead th {\n",
       "        text-align: right;\n",
       "    }\n",
       "</style>\n",
       "<table border=\"1\" class=\"dataframe\">\n",
       "  <thead>\n",
       "    <tr style=\"text-align: right;\">\n",
       "      <th></th>\n",
       "      <th>distance</th>\n",
       "      <th>speed</th>\n",
       "      <th>temp_inside</th>\n",
       "      <th>temp_outside</th>\n",
       "    </tr>\n",
       "  </thead>\n",
       "  <tbody>\n",
       "    <tr>\n",
       "      <th>63</th>\n",
       "      <td>-1.202319</td>\n",
       "      <td>-1.306182</td>\n",
       "      <td>-0.421165</td>\n",
       "      <td>-0.726332</td>\n",
       "    </tr>\n",
       "    <tr>\n",
       "      <th>238</th>\n",
       "      <td>-0.349441</td>\n",
       "      <td>-0.035969</td>\n",
       "      <td>0.628788</td>\n",
       "      <td>-1.416010</td>\n",
       "    </tr>\n",
       "    <tr>\n",
       "      <th>132</th>\n",
       "      <td>0.123213</td>\n",
       "      <td>-0.619468</td>\n",
       "      <td>-0.421165</td>\n",
       "      <td>-0.726332</td>\n",
       "    </tr>\n",
       "    <tr>\n",
       "      <th>101</th>\n",
       "      <td>0.842759</td>\n",
       "      <td>1.868807</td>\n",
       "      <td>-1.010507</td>\n",
       "      <td>-0.419967</td>\n",
       "    </tr>\n",
       "    <tr>\n",
       "      <th>351</th>\n",
       "      <td>0.113825</td>\n",
       "      <td>0.404897</td>\n",
       "      <td>0.123870</td>\n",
       "      <td>0.804562</td>\n",
       "    </tr>\n",
       "    <tr>\n",
       "      <th>...</th>\n",
       "      <td>...</td>\n",
       "      <td>...</td>\n",
       "      <td>...</td>\n",
       "      <td>...</td>\n",
       "    </tr>\n",
       "    <tr>\n",
       "      <th>71</th>\n",
       "      <td>-3.019655</td>\n",
       "      <td>-2.016751</td>\n",
       "      <td>-0.421165</td>\n",
       "      <td>-0.129387</td>\n",
       "    </tr>\n",
       "    <tr>\n",
       "      <th>106</th>\n",
       "      <td>3.233495</td>\n",
       "      <td>2.064232</td>\n",
       "      <td>1.097303</td>\n",
       "      <td>-1.617780</td>\n",
       "    </tr>\n",
       "    <tr>\n",
       "      <th>270</th>\n",
       "      <td>0.113825</td>\n",
       "      <td>0.040873</td>\n",
       "      <td>0.123870</td>\n",
       "      <td>0.148923</td>\n",
       "    </tr>\n",
       "    <tr>\n",
       "      <th>348</th>\n",
       "      <td>0.169231</td>\n",
       "      <td>0.674858</td>\n",
       "      <td>0.123870</td>\n",
       "      <td>1.770769</td>\n",
       "    </tr>\n",
       "    <tr>\n",
       "      <th>102</th>\n",
       "      <td>0.355431</td>\n",
       "      <td>1.395862</td>\n",
       "      <td>0.049564</td>\n",
       "      <td>-0.272961</td>\n",
       "    </tr>\n",
       "  </tbody>\n",
       "</table>\n",
       "<p>310 rows × 4 columns</p>\n",
       "</div>"
      ],
      "text/plain": [
       "     distance     speed  temp_inside  temp_outside\n",
       "63  -1.202319 -1.306182    -0.421165     -0.726332\n",
       "238 -0.349441 -0.035969     0.628788     -1.416010\n",
       "132  0.123213 -0.619468    -0.421165     -0.726332\n",
       "101  0.842759  1.868807    -1.010507     -0.419967\n",
       "351  0.113825  0.404897     0.123870      0.804562\n",
       "..        ...       ...          ...           ...\n",
       "71  -3.019655 -2.016751    -0.421165     -0.129387\n",
       "106  3.233495  2.064232     1.097303     -1.617780\n",
       "270  0.113825  0.040873     0.123870      0.148923\n",
       "348  0.169231  0.674858     0.123870      1.770769\n",
       "102  0.355431  1.395862     0.049564     -0.272961\n",
       "\n",
       "[310 rows x 4 columns]"
      ]
     },
     "execution_count": 47,
     "metadata": {},
     "output_type": "execute_result"
    }
   ],
   "source": [
    "X_train_transformed_df"
   ]
  },
  {
   "cell_type": "code",
   "execution_count": 48,
   "id": "973b2bca",
   "metadata": {},
   "outputs": [],
   "source": [
    "from sklearn.preprocessing import MinMaxScaler\n",
    "\n",
    "scaler = MinMaxScaler()\n",
    "\n",
    "#fit-transform train\n",
    "X_train_scaled = scaler.fit_transform(X_train_transformed_df)\n",
    "\n",
    "#transform test\n",
    "X_test_scaled = scaler.transform(X_test_transformed_df)\n",
    "\n",
    "#cast to pd DataFrame\n",
    "X_train_scaled_df = pd.DataFrame(X_train_scaled, columns=(X_train_transformed_df.columns), index=X_train_transformed_df.index)\n",
    "X_test_scaled_df = pd.DataFrame(X_test_scaled, columns=(X_test_transformed_df.columns), index=X_test_transformed_df.index)\n"
   ]
  },
  {
   "cell_type": "code",
   "execution_count": 49,
   "id": "b6dfb96c",
   "metadata": {},
   "outputs": [
    {
     "data": {
      "text/html": [
       "<div>\n",
       "<style scoped>\n",
       "    .dataframe tbody tr th:only-of-type {\n",
       "        vertical-align: middle;\n",
       "    }\n",
       "\n",
       "    .dataframe tbody tr th {\n",
       "        vertical-align: top;\n",
       "    }\n",
       "\n",
       "    .dataframe thead th {\n",
       "        text-align: right;\n",
       "    }\n",
       "</style>\n",
       "<table border=\"1\" class=\"dataframe\">\n",
       "  <thead>\n",
       "    <tr style=\"text-align: right;\">\n",
       "      <th></th>\n",
       "      <th>distance</th>\n",
       "      <th>speed</th>\n",
       "      <th>temp_inside</th>\n",
       "      <th>temp_outside</th>\n",
       "    </tr>\n",
       "  </thead>\n",
       "  <tbody>\n",
       "    <tr>\n",
       "      <th>63</th>\n",
       "      <td>0.331979</td>\n",
       "      <td>0.284194</td>\n",
       "      <td>0.505471</td>\n",
       "      <td>0.465842</td>\n",
       "    </tr>\n",
       "    <tr>\n",
       "      <th>238</th>\n",
       "      <td>0.451637</td>\n",
       "      <td>0.509347</td>\n",
       "      <td>0.657340</td>\n",
       "      <td>0.349823</td>\n",
       "    </tr>\n",
       "    <tr>\n",
       "      <th>132</th>\n",
       "      <td>0.517950</td>\n",
       "      <td>0.405918</td>\n",
       "      <td>0.505471</td>\n",
       "      <td>0.465842</td>\n",
       "    </tr>\n",
       "    <tr>\n",
       "      <th>101</th>\n",
       "      <td>0.618902</td>\n",
       "      <td>0.846981</td>\n",
       "      <td>0.420227</td>\n",
       "      <td>0.517380</td>\n",
       "    </tr>\n",
       "    <tr>\n",
       "      <th>351</th>\n",
       "      <td>0.516633</td>\n",
       "      <td>0.587493</td>\n",
       "      <td>0.584307</td>\n",
       "      <td>0.723373</td>\n",
       "    </tr>\n",
       "    <tr>\n",
       "      <th>...</th>\n",
       "      <td>...</td>\n",
       "      <td>...</td>\n",
       "      <td>...</td>\n",
       "      <td>...</td>\n",
       "    </tr>\n",
       "    <tr>\n",
       "      <th>71</th>\n",
       "      <td>0.077009</td>\n",
       "      <td>0.158240</td>\n",
       "      <td>0.505471</td>\n",
       "      <td>0.566262</td>\n",
       "    </tr>\n",
       "    <tr>\n",
       "      <th>106</th>\n",
       "      <td>0.954320</td>\n",
       "      <td>0.881622</td>\n",
       "      <td>0.725108</td>\n",
       "      <td>0.315881</td>\n",
       "    </tr>\n",
       "    <tr>\n",
       "      <th>270</th>\n",
       "      <td>0.516633</td>\n",
       "      <td>0.522968</td>\n",
       "      <td>0.584307</td>\n",
       "      <td>0.613080</td>\n",
       "    </tr>\n",
       "    <tr>\n",
       "      <th>348</th>\n",
       "      <td>0.524407</td>\n",
       "      <td>0.635346</td>\n",
       "      <td>0.584307</td>\n",
       "      <td>0.885911</td>\n",
       "    </tr>\n",
       "    <tr>\n",
       "      <th>102</th>\n",
       "      <td>0.550530</td>\n",
       "      <td>0.763149</td>\n",
       "      <td>0.573559</td>\n",
       "      <td>0.542109</td>\n",
       "    </tr>\n",
       "  </tbody>\n",
       "</table>\n",
       "<p>310 rows × 4 columns</p>\n",
       "</div>"
      ],
      "text/plain": [
       "     distance     speed  temp_inside  temp_outside\n",
       "63   0.331979  0.284194     0.505471      0.465842\n",
       "238  0.451637  0.509347     0.657340      0.349823\n",
       "132  0.517950  0.405918     0.505471      0.465842\n",
       "101  0.618902  0.846981     0.420227      0.517380\n",
       "351  0.516633  0.587493     0.584307      0.723373\n",
       "..        ...       ...          ...           ...\n",
       "71   0.077009  0.158240     0.505471      0.566262\n",
       "106  0.954320  0.881622     0.725108      0.315881\n",
       "270  0.516633  0.522968     0.584307      0.613080\n",
       "348  0.524407  0.635346     0.584307      0.885911\n",
       "102  0.550530  0.763149     0.573559      0.542109\n",
       "\n",
       "[310 rows x 4 columns]"
      ]
     },
     "execution_count": 49,
     "metadata": {},
     "output_type": "execute_result"
    }
   ],
   "source": [
    "X_train_scaled_df"
   ]
  },
  {
   "cell_type": "code",
   "execution_count": 50,
   "id": "62028e4c",
   "metadata": {},
   "outputs": [
    {
     "data": {
      "text/html": [
       "<div>\n",
       "<style scoped>\n",
       "    .dataframe tbody tr th:only-of-type {\n",
       "        vertical-align: middle;\n",
       "    }\n",
       "\n",
       "    .dataframe tbody tr th {\n",
       "        vertical-align: top;\n",
       "    }\n",
       "\n",
       "    .dataframe thead th {\n",
       "        text-align: right;\n",
       "    }\n",
       "</style>\n",
       "<table border=\"1\" class=\"dataframe\">\n",
       "  <thead>\n",
       "    <tr style=\"text-align: right;\">\n",
       "      <th></th>\n",
       "      <th>distance</th>\n",
       "      <th>speed</th>\n",
       "      <th>temp_inside</th>\n",
       "      <th>temp_outside</th>\n",
       "    </tr>\n",
       "  </thead>\n",
       "  <tbody>\n",
       "    <tr>\n",
       "      <th>count</th>\n",
       "      <td>310.000000</td>\n",
       "      <td>310.000000</td>\n",
       "      <td>310.000000</td>\n",
       "      <td>310.000000</td>\n",
       "    </tr>\n",
       "    <tr>\n",
       "      <th>mean</th>\n",
       "      <td>0.500664</td>\n",
       "      <td>0.515723</td>\n",
       "      <td>0.566390</td>\n",
       "      <td>0.588028</td>\n",
       "    </tr>\n",
       "    <tr>\n",
       "      <th>std</th>\n",
       "      <td>0.140526</td>\n",
       "      <td>0.177543</td>\n",
       "      <td>0.144877</td>\n",
       "      <td>0.168494</td>\n",
       "    </tr>\n",
       "    <tr>\n",
       "      <th>min</th>\n",
       "      <td>0.000000</td>\n",
       "      <td>0.000000</td>\n",
       "      <td>0.000000</td>\n",
       "      <td>0.000000</td>\n",
       "    </tr>\n",
       "    <tr>\n",
       "      <th>25%</th>\n",
       "      <td>0.451637</td>\n",
       "      <td>0.405918</td>\n",
       "      <td>0.505471</td>\n",
       "      <td>0.491992</td>\n",
       "    </tr>\n",
       "    <tr>\n",
       "      <th>50%</th>\n",
       "      <td>0.508541</td>\n",
       "      <td>0.522968</td>\n",
       "      <td>0.584307</td>\n",
       "      <td>0.566262</td>\n",
       "    </tr>\n",
       "    <tr>\n",
       "      <th>75%</th>\n",
       "      <td>0.557601</td>\n",
       "      <td>0.635346</td>\n",
       "      <td>0.657340</td>\n",
       "      <td>0.701963</td>\n",
       "    </tr>\n",
       "    <tr>\n",
       "      <th>max</th>\n",
       "      <td>1.000000</td>\n",
       "      <td>1.000000</td>\n",
       "      <td>1.000000</td>\n",
       "      <td>1.000000</td>\n",
       "    </tr>\n",
       "  </tbody>\n",
       "</table>\n",
       "</div>"
      ],
      "text/plain": [
       "         distance       speed  temp_inside  temp_outside\n",
       "count  310.000000  310.000000   310.000000    310.000000\n",
       "mean     0.500664    0.515723     0.566390      0.588028\n",
       "std      0.140526    0.177543     0.144877      0.168494\n",
       "min      0.000000    0.000000     0.000000      0.000000\n",
       "25%      0.451637    0.405918     0.505471      0.491992\n",
       "50%      0.508541    0.522968     0.584307      0.566262\n",
       "75%      0.557601    0.635346     0.657340      0.701963\n",
       "max      1.000000    1.000000     1.000000      1.000000"
      ]
     },
     "execution_count": 50,
     "metadata": {},
     "output_type": "execute_result"
    }
   ],
   "source": [
    "X_train_scaled_df.describe()"
   ]
  },
  {
   "cell_type": "code",
   "execution_count": 51,
   "id": "d5fb2efc",
   "metadata": {},
   "outputs": [
    {
     "data": {
      "text/html": [
       "<style>#sk-container-id-1 {color: black;}#sk-container-id-1 pre{padding: 0;}#sk-container-id-1 div.sk-toggleable {background-color: white;}#sk-container-id-1 label.sk-toggleable__label {cursor: pointer;display: block;width: 100%;margin-bottom: 0;padding: 0.3em;box-sizing: border-box;text-align: center;}#sk-container-id-1 label.sk-toggleable__label-arrow:before {content: \"▸\";float: left;margin-right: 0.25em;color: #696969;}#sk-container-id-1 label.sk-toggleable__label-arrow:hover:before {color: black;}#sk-container-id-1 div.sk-estimator:hover label.sk-toggleable__label-arrow:before {color: black;}#sk-container-id-1 div.sk-toggleable__content {max-height: 0;max-width: 0;overflow: hidden;text-align: left;background-color: #f0f8ff;}#sk-container-id-1 div.sk-toggleable__content pre {margin: 0.2em;color: black;border-radius: 0.25em;background-color: #f0f8ff;}#sk-container-id-1 input.sk-toggleable__control:checked~div.sk-toggleable__content {max-height: 200px;max-width: 100%;overflow: auto;}#sk-container-id-1 input.sk-toggleable__control:checked~label.sk-toggleable__label-arrow:before {content: \"▾\";}#sk-container-id-1 div.sk-estimator input.sk-toggleable__control:checked~label.sk-toggleable__label {background-color: #d4ebff;}#sk-container-id-1 div.sk-label input.sk-toggleable__control:checked~label.sk-toggleable__label {background-color: #d4ebff;}#sk-container-id-1 input.sk-hidden--visually {border: 0;clip: rect(1px 1px 1px 1px);clip: rect(1px, 1px, 1px, 1px);height: 1px;margin: -1px;overflow: hidden;padding: 0;position: absolute;width: 1px;}#sk-container-id-1 div.sk-estimator {font-family: monospace;background-color: #f0f8ff;border: 1px dotted black;border-radius: 0.25em;box-sizing: border-box;margin-bottom: 0.5em;}#sk-container-id-1 div.sk-estimator:hover {background-color: #d4ebff;}#sk-container-id-1 div.sk-parallel-item::after {content: \"\";width: 100%;border-bottom: 1px solid gray;flex-grow: 1;}#sk-container-id-1 div.sk-label:hover label.sk-toggleable__label {background-color: #d4ebff;}#sk-container-id-1 div.sk-serial::before {content: \"\";position: absolute;border-left: 1px solid gray;box-sizing: border-box;top: 0;bottom: 0;left: 50%;z-index: 0;}#sk-container-id-1 div.sk-serial {display: flex;flex-direction: column;align-items: center;background-color: white;padding-right: 0.2em;padding-left: 0.2em;position: relative;}#sk-container-id-1 div.sk-item {position: relative;z-index: 1;}#sk-container-id-1 div.sk-parallel {display: flex;align-items: stretch;justify-content: center;background-color: white;position: relative;}#sk-container-id-1 div.sk-item::before, #sk-container-id-1 div.sk-parallel-item::before {content: \"\";position: absolute;border-left: 1px solid gray;box-sizing: border-box;top: 0;bottom: 0;left: 50%;z-index: -1;}#sk-container-id-1 div.sk-parallel-item {display: flex;flex-direction: column;z-index: 1;position: relative;background-color: white;}#sk-container-id-1 div.sk-parallel-item:first-child::after {align-self: flex-end;width: 50%;}#sk-container-id-1 div.sk-parallel-item:last-child::after {align-self: flex-start;width: 50%;}#sk-container-id-1 div.sk-parallel-item:only-child::after {width: 0;}#sk-container-id-1 div.sk-dashed-wrapped {border: 1px dashed gray;margin: 0 0.4em 0.5em 0.4em;box-sizing: border-box;padding-bottom: 0.4em;background-color: white;}#sk-container-id-1 div.sk-label label {font-family: monospace;font-weight: bold;display: inline-block;line-height: 1.2em;}#sk-container-id-1 div.sk-label-container {text-align: center;}#sk-container-id-1 div.sk-container {/* jupyter's `normalize.less` sets `[hidden] { display: none; }` but bootstrap.min.css set `[hidden] { display: none !important; }` so we also need the `!important` here to be able to override the default hidden behavior on the sphinx rendered scikit-learn.org. See: https://github.com/scikit-learn/scikit-learn/issues/21755 */display: inline-block !important;position: relative;}#sk-container-id-1 div.sk-text-repr-fallback {display: none;}</style><div id=\"sk-container-id-1\" class=\"sk-top-container\"><div class=\"sk-text-repr-fallback\"><pre>LinearRegression()</pre><b>In a Jupyter environment, please rerun this cell to show the HTML representation or trust the notebook. <br />On GitHub, the HTML representation is unable to render, please try loading this page with nbviewer.org.</b></div><div class=\"sk-container\" hidden><div class=\"sk-item\"><div class=\"sk-estimator sk-toggleable\"><input class=\"sk-toggleable__control sk-hidden--visually\" id=\"sk-estimator-id-1\" type=\"checkbox\" checked><label for=\"sk-estimator-id-1\" class=\"sk-toggleable__label sk-toggleable__label-arrow\">LinearRegression</label><div class=\"sk-toggleable__content\"><pre>LinearRegression()</pre></div></div></div></div></div>"
      ],
      "text/plain": [
       "LinearRegression()"
      ]
     },
     "execution_count": 51,
     "metadata": {},
     "output_type": "execute_result"
    }
   ],
   "source": [
    "from sklearn.linear_model import LinearRegression\n",
    "\n",
    "lin_reg = LinearRegression()\n",
    "lin_reg.fit(X_train_scaled_df, y_train)"
   ]
  },
  {
   "cell_type": "code",
   "execution_count": 52,
   "id": "8bafd3b8",
   "metadata": {},
   "outputs": [],
   "source": [
    "y_train_pred = lin_reg.predict(X_train_scaled_df)\n",
    "y_test_pred = lin_reg.predict(X_test_scaled_df)"
   ]
  },
  {
   "cell_type": "code",
   "execution_count": 53,
   "id": "4efe3c88",
   "metadata": {},
   "outputs": [],
   "source": [
    "from sklearn.metrics import silhouette_score, mean_absolute_error, mean_squared_error, r2_score\n",
    "\n",
    "def error_metrics(y_train_pred: str, y_test_pred: str):\n",
    "    \"\"\"Generate error metrics report based on predictions of the model\n",
    "    \"\"\"\n",
    "    # Evaluate the model\n",
    "    mae_train = mean_absolute_error(y_train, y_train_pred)\n",
    "    mae_test = mean_absolute_error(y_test, y_test_pred)\n",
    "\n",
    "    mse_train = mean_squared_error(y_train, y_train_pred)\n",
    "    mse_test = mean_squared_error(y_test, y_test_pred)\n",
    "\n",
    "    rmse_train = mean_squared_error(y_train, y_train_pred, squared=False)\n",
    "    rmse_test = mean_squared_error(y_test, y_test_pred, squared=False)\n",
    "\n",
    "    r2_train = r2_score(y_train, y_train_pred)\n",
    "    r2_test = r2_score(y_test, y_test_pred)\n",
    "    \n",
    "    # Create a DataFrame with the error metrics\n",
    "    error_df = pd.DataFrame({\n",
    "        'Metric': ['MAE', 'MSE', 'RMSE', 'R2'],\n",
    "        'Train': [mae_train, mse_train, rmse_train, r2_train],\n",
    "        'Test': [mae_test, mse_test, rmse_test, r2_test]})\n",
    "\n",
    "    return error_df"
   ]
  },
  {
   "cell_type": "code",
   "execution_count": 54,
   "id": "cc597663",
   "metadata": {},
   "outputs": [
    {
     "data": {
      "text/html": [
       "<div>\n",
       "<style scoped>\n",
       "    .dataframe tbody tr th:only-of-type {\n",
       "        vertical-align: middle;\n",
       "    }\n",
       "\n",
       "    .dataframe tbody tr th {\n",
       "        vertical-align: top;\n",
       "    }\n",
       "\n",
       "    .dataframe thead th {\n",
       "        text-align: right;\n",
       "    }\n",
       "</style>\n",
       "<table border=\"1\" class=\"dataframe\">\n",
       "  <thead>\n",
       "    <tr style=\"text-align: right;\">\n",
       "      <th></th>\n",
       "      <th>Metric</th>\n",
       "      <th>Train</th>\n",
       "      <th>Test</th>\n",
       "    </tr>\n",
       "  </thead>\n",
       "  <tbody>\n",
       "    <tr>\n",
       "      <th>0</th>\n",
       "      <td>MAE</td>\n",
       "      <td>0.618667</td>\n",
       "      <td>0.597347</td>\n",
       "    </tr>\n",
       "    <tr>\n",
       "      <th>1</th>\n",
       "      <td>MSE</td>\n",
       "      <td>0.779245</td>\n",
       "      <td>0.646214</td>\n",
       "    </tr>\n",
       "    <tr>\n",
       "      <th>2</th>\n",
       "      <td>RMSE</td>\n",
       "      <td>0.882749</td>\n",
       "      <td>0.803874</td>\n",
       "    </tr>\n",
       "    <tr>\n",
       "      <th>3</th>\n",
       "      <td>R2</td>\n",
       "      <td>0.294271</td>\n",
       "      <td>0.287766</td>\n",
       "    </tr>\n",
       "  </tbody>\n",
       "</table>\n",
       "</div>"
      ],
      "text/plain": [
       "  Metric     Train      Test\n",
       "0    MAE  0.618667  0.597347\n",
       "1    MSE  0.779245  0.646214\n",
       "2   RMSE  0.882749  0.803874\n",
       "3     R2  0.294271  0.287766"
      ]
     },
     "execution_count": 54,
     "metadata": {},
     "output_type": "execute_result"
    }
   ],
   "source": [
    "error_metrics(y_train_pred, y_test_pred)"
   ]
  },
  {
   "cell_type": "code",
   "execution_count": 55,
   "id": "04f851dc",
   "metadata": {},
   "outputs": [],
   "source": [
    "from sklearn.ensemble import RandomForestRegressor\n",
    "\n",
    "rf_reg = RandomForestRegressor(random_state=42)\n",
    "model = rf_reg.fit(X_train, y_train) # performance is not better with transformed & scaled data\n",
    "    \n",
    "# Make predictions on the training and test sets\n",
    "y_train_pred = rf_reg.predict(X_train)\n",
    "y_test_pred = rf_reg.predict(X_test)"
   ]
  },
  {
   "cell_type": "code",
   "execution_count": 56,
   "id": "351fff77",
   "metadata": {},
   "outputs": [
    {
     "data": {
      "text/html": [
       "<div>\n",
       "<style scoped>\n",
       "    .dataframe tbody tr th:only-of-type {\n",
       "        vertical-align: middle;\n",
       "    }\n",
       "\n",
       "    .dataframe tbody tr th {\n",
       "        vertical-align: top;\n",
       "    }\n",
       "\n",
       "    .dataframe thead th {\n",
       "        text-align: right;\n",
       "    }\n",
       "</style>\n",
       "<table border=\"1\" class=\"dataframe\">\n",
       "  <thead>\n",
       "    <tr style=\"text-align: right;\">\n",
       "      <th></th>\n",
       "      <th>Metric</th>\n",
       "      <th>Train</th>\n",
       "      <th>Test</th>\n",
       "    </tr>\n",
       "  </thead>\n",
       "  <tbody>\n",
       "    <tr>\n",
       "      <th>0</th>\n",
       "      <td>MAE</td>\n",
       "      <td>0.166102</td>\n",
       "      <td>0.430206</td>\n",
       "    </tr>\n",
       "    <tr>\n",
       "      <th>1</th>\n",
       "      <td>MSE</td>\n",
       "      <td>0.063903</td>\n",
       "      <td>0.447076</td>\n",
       "    </tr>\n",
       "    <tr>\n",
       "      <th>2</th>\n",
       "      <td>RMSE</td>\n",
       "      <td>0.252791</td>\n",
       "      <td>0.668637</td>\n",
       "    </tr>\n",
       "    <tr>\n",
       "      <th>3</th>\n",
       "      <td>R2</td>\n",
       "      <td>0.942126</td>\n",
       "      <td>0.507249</td>\n",
       "    </tr>\n",
       "  </tbody>\n",
       "</table>\n",
       "</div>"
      ],
      "text/plain": [
       "  Metric     Train      Test\n",
       "0    MAE  0.166102  0.430206\n",
       "1    MSE  0.063903  0.447076\n",
       "2   RMSE  0.252791  0.668637\n",
       "3     R2  0.942126  0.507249"
      ]
     },
     "execution_count": 56,
     "metadata": {},
     "output_type": "execute_result"
    }
   ],
   "source": [
    "error_metrics(y_train_pred, y_test_pred)"
   ]
  },
  {
   "cell_type": "code",
   "execution_count": 57,
   "id": "309b94ef",
   "metadata": {},
   "outputs": [
    {
     "data": {
      "text/html": [
       "<div>\n",
       "<style scoped>\n",
       "    .dataframe tbody tr th:only-of-type {\n",
       "        vertical-align: middle;\n",
       "    }\n",
       "\n",
       "    .dataframe tbody tr th {\n",
       "        vertical-align: top;\n",
       "    }\n",
       "\n",
       "    .dataframe thead th {\n",
       "        text-align: right;\n",
       "    }\n",
       "</style>\n",
       "<table border=\"1\" class=\"dataframe\">\n",
       "  <thead>\n",
       "    <tr style=\"text-align: right;\">\n",
       "      <th></th>\n",
       "      <th>Name</th>\n",
       "      <th>value</th>\n",
       "    </tr>\n",
       "  </thead>\n",
       "  <tbody>\n",
       "    <tr>\n",
       "      <th>0</th>\n",
       "      <td>distance</td>\n",
       "      <td>0.668803</td>\n",
       "    </tr>\n",
       "    <tr>\n",
       "      <th>1</th>\n",
       "      <td>speed</td>\n",
       "      <td>0.148127</td>\n",
       "    </tr>\n",
       "    <tr>\n",
       "      <th>3</th>\n",
       "      <td>temp_outside</td>\n",
       "      <td>0.132224</td>\n",
       "    </tr>\n",
       "    <tr>\n",
       "      <th>2</th>\n",
       "      <td>temp_inside</td>\n",
       "      <td>0.040229</td>\n",
       "    </tr>\n",
       "    <tr>\n",
       "      <th>4</th>\n",
       "      <td>gas_type_num</td>\n",
       "      <td>0.010617</td>\n",
       "    </tr>\n",
       "  </tbody>\n",
       "</table>\n",
       "</div>"
      ],
      "text/plain": [
       "           Name     value\n",
       "0      distance  0.668803\n",
       "1         speed  0.148127\n",
       "3  temp_outside  0.132224\n",
       "2   temp_inside  0.040229\n",
       "4  gas_type_num  0.010617"
      ]
     },
     "execution_count": 57,
     "metadata": {},
     "output_type": "execute_result"
    }
   ],
   "source": [
    "names = rf_reg.feature_names_in_\n",
    "values = rf_reg.feature_importances_\n",
    "\n",
    "rf_best_features = pd.DataFrame({\"Name\":names, \"value\":values})\n",
    "rf_best_features.sort_values(by=\"value\", ascending=False)"
   ]
  }
 ],
 "metadata": {
  "kernelspec": {
   "display_name": "Python 3 (ipykernel)",
   "language": "python",
   "name": "python3"
  },
  "language_info": {
   "codemirror_mode": {
    "name": "ipython",
    "version": 3
   },
   "file_extension": ".py",
   "mimetype": "text/x-python",
   "name": "python",
   "nbconvert_exporter": "python",
   "pygments_lexer": "ipython3",
   "version": "3.11.5"
  }
 },
 "nbformat": 4,
 "nbformat_minor": 5
}
